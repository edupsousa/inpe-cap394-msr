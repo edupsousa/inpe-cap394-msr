{
 "cells": [
  {
   "cell_type": "code",
   "execution_count": null,
   "metadata": {
    "scrolled": true
   },
   "outputs": [],
   "source": [
    "import io\n",
    "import os\n",
    "import glob\n",
    "import javalang\n",
    "from git import Repo"
   ]
  },
  {
   "cell_type": "code",
   "execution_count": null,
   "metadata": {
    "scrolled": true
   },
   "outputs": [],
   "source": [
    "local_path = \"./repositories\"\n",
    "repo_urls = [\n",
    "    \"https://github.com/spring-projects/spring-mvc-showcase\",\n",
    "    \"https://github.com/spring-projects/spring-boot\"\n",
    "]"
   ]
  },
  {
   "cell_type": "code",
   "execution_count": null,
   "metadata": {
    "scrolled": true
   },
   "outputs": [],
   "source": [
    "for url in repo_urls:\n",
    "    owner_name, project_name = url.split(\"/\")[-2:]\n",
    "    clone_path = os.path.join(local_path, owner_name + \".\" + project_name)\n",
    "    if os.path.exists(clone_path):\n",
    "        print(\"Directory {} already exists.\".format(clone_path))\n",
    "    else:\n",
    "        print(\"Cloning {} to {}...\".format(url, clone_path))\n",
    "        Repo.clone_from(url, clone_path, depth=1)"
   ]
  },
  {
   "cell_type": "code",
   "execution_count": null,
   "metadata": {
    "scrolled": false
   },
   "outputs": [],
   "source": [
    "for filename in glob.iglob(local_path + \"/**/*.java\", recursive=True):\n",
    "    source_code = \"\"\n",
    "    f = io.open(filename, 'r', encoding=\"utf-8\")\n",
    "    source_code = f.read()\n",
    "    f.close()\n",
    "    try:\n",
    "        ast = javalang.parse.parse(source_code)\n",
    "    except javalang.parser.JavaSyntaxError as e:\n",
    "        print(\"Syntax error parsing {}\".format(filename))\n",
    "    print(ast.package.name)"
   ]
  },
  {
   "cell_type": "code",
   "execution_count": null,
   "metadata": {
    "scrolled": true
   },
   "outputs": [],
   "source": []
  }
 ],
 "metadata": {
  "kernelspec": {
   "display_name": "Python 3",
   "language": "python",
   "name": "python3"
  },
  "language_info": {
   "codemirror_mode": {
    "name": "ipython",
    "version": 3
   },
   "file_extension": ".py",
   "mimetype": "text/x-python",
   "name": "python",
   "nbconvert_exporter": "python",
   "pygments_lexer": "ipython3",
   "version": "3.5.2"
  }
 },
 "nbformat": 4,
 "nbformat_minor": 2
}
